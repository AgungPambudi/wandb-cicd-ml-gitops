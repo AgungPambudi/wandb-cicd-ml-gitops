{
 "cells": [
  {
   "cell_type": "markdown",
   "id": "c0746140-807c-47bb-b914-c0e75e5f586e",
   "metadata": {},
   "source": [
    "# \"Deploy\" models with wandb/GitHub\n",
    "\n",
    "Promote a model to the model registry and document the promotion with the GitHub Deployment API.  \n",
    "\n",
    "**Note: We aren't actually deploying a model, instead we are promoting a model with the tag `production candidate` so that your deployment systems can take it from there.** The point of this exercise is to use GitHub Actions and W&B to document this process so you have more transparency and visibility. "
   ]
  },
  {
   "cell_type": "code",
   "execution_count": null,
   "id": "e0fd128e-ef53-4594-bdd2-873e63bf4de6",
   "metadata": {},
   "outputs": [],
   "source": [
    "import os, wandb\n",
    "from urllib.parse import urlencode\n",
    "\n",
    "assert os.getenv('WANDB_API_KEY'), 'You must set the WANDB_API_KEY environment variable'"
   ]
  },
  {
   "cell_type": "markdown",
   "id": "20689c41-dc5f-416e-b554-ec0b2d97a025",
   "metadata": {},
   "source": [
    "Promote a model to the registry"
   ]
  },
  {
   "cell_type": "markdown",
   "id": "5eb5b08d-0a5b-4d6e-afe3-8719e6b1cfc4",
   "metadata": {},
   "source": [
    "## Parameters\n",
    "\n",
    "These will we passed as environment variables in GitHub Actions"
   ]
  },
  {
   "cell_type": "code",
   "execution_count": null,
   "id": "66657751-2f18-47de-9be8-493df4663786",
   "metadata": {},
   "outputs": [],
   "source": [
    "owner='hamelsmu'\n",
    "repo='wandb-cicd'\n",
    "registry_path = 'av-team/model-registry/BDD Semantic Segmentation'\n",
    "run_path = 'av-team/mlops-course-001/'\n",
    "run_id = '2wpuuc70'\n",
    "pr_num = '16'\n",
    "environment = 'staging'"
   ]
  },
  {
   "cell_type": "markdown",
   "id": "2172cd3a-dae4-4ec1-b54e-4a6dd75c763f",
   "metadata": {},
   "source": [
    "### Promote run's model to the registry"
   ]
  },
  {
   "cell_type": "code",
   "execution_count": null,
   "id": "f50ab59e-457c-44bf-8914-0f350ab15104",
   "metadata": {},
   "outputs": [],
   "source": [
    "api = wandb.Api()\n",
    "run = api.run(f'{run_path}/{run_id}')\n",
    "\n",
    "art = [a for a in run.logged_artifacts() if a.type == 'model']\n",
    "if art:\n",
    "    assert len(art) == 1, 'More then 1 artifact of type model!'\n",
    "    art[0].link(registry_path, aliases=['production candidate'])"
   ]
  },
  {
   "cell_type": "code",
   "execution_count": null,
   "id": "fb30b0b7-3128-40e6-a309-9db1df6a9f47",
   "metadata": {},
   "outputs": [],
   "source": [
    "versions = api.artifact_versions('model', registry_path)\n",
    "latest_model = versions[0]"
   ]
  },
  {
   "cell_type": "code",
   "execution_count": null,
   "id": "7ed7a1d1-762a-4fd2-be34-f4b5aacd1725",
   "metadata": {},
   "outputs": [
    {
     "data": {
      "text/plain": [
       "('av-team', 'v3')"
      ]
     },
     "execution_count": null,
     "metadata": {},
     "output_type": "execute_result"
    }
   ],
   "source": [
    "latest_model.entity, latest_model.version, "
   ]
  },
  {
   "cell_type": "markdown",
   "id": "772fd6e5-92f3-4d70-8b5f-dbc3f4c3b175",
   "metadata": {},
   "source": [
    "Get the url for the registry"
   ]
  },
  {
   "cell_type": "code",
   "execution_count": null,
   "id": "0448a073-0ab9-4f8c-8e90-6eeb4bb55bca",
   "metadata": {},
   "outputs": [
    {
     "data": {
      "text/plain": [
       "'https://wandb.ai/av-team/registry/model?selectionPath=av-team%2Fmodel-registry%2FBDD+Semantic+Segmentation&version=v3'"
      ]
     },
     "execution_count": null,
     "metadata": {},
     "output_type": "execute_result"
    }
   ],
   "source": [
    "query = urlencode({'selectionPath': registry_path, 'version': latest_model.version})\n",
    "registry_url = f'https://wandb.ai/{latest_model.entity}/registry/model?{query}'\n",
    "registry_url"
   ]
  },
  {
   "cell_type": "markdown",
   "id": "7455fbad-0500-4a58-80c2-ca923a2e4a2e",
   "metadata": {},
   "source": [
    "### Share the link on GitHub with deployments"
   ]
  },
  {
   "cell_type": "code",
   "execution_count": null,
   "id": "358ffe86-278e-410f-a742-664d956c5494",
   "metadata": {},
   "outputs": [],
   "source": [
    "from ghapi.core import GhApi\n",
    "gapi = GhApi(owner=owner, repo=repo)"
   ]
  },
  {
   "cell_type": "markdown",
   "id": "25516d22-358b-4718-9b01-c1d1b359237d",
   "metadata": {},
   "source": [
    "When you are making an issue coment, you need to get the branch associated with the PR with an API call"
   ]
  },
  {
   "cell_type": "code",
   "execution_count": null,
   "id": "751dade5-151f-4223-a802-c44697ffb1ff",
   "metadata": {},
   "outputs": [],
   "source": [
    "branch_name = gapi.pulls.get(pr_num).head.ref"
   ]
  },
  {
   "cell_type": "code",
   "execution_count": null,
   "id": "fd45ebca-fdf8-4222-8283-431bb1da43d2",
   "metadata": {},
   "outputs": [],
   "source": [
    "deploy = gapi.repos.create_deployment(ref=branch_name,\n",
    "                                 environment=environment,\n",
    "                                 description='promote model to `deployment candidate`',\n",
    "                                 payload={'run_id': run_id, 'registry_url':registry_url})"
   ]
  },
  {
   "cell_type": "markdown",
   "id": "abee829f-1a7d-4fa7-a3d7-a76f207838ef",
   "metadata": {},
   "source": [
    "You could actually deploy your model in and report the status of `success` or `failure` back.  However, we aren't going to do that and let another system handle the actual deployment from the model registry."
   ]
  },
  {
   "cell_type": "code",
   "execution_count": null,
   "id": "d6674e33-f38e-4f01-a6fc-31460854ada8",
   "metadata": {},
   "outputs": [],
   "source": [
    "status = gapi.repos.create_deployment_status(deployment_id=deploy.id,\n",
    "                                             description=f'Tagged model for run {run_id} as a `production candidate`',\n",
    "                                             environment=environment,\n",
    "                                             log_url=registry_url,\n",
    "                                             state='success')"
   ]
  },
  {
   "cell_type": "code",
   "execution_count": null,
   "id": "7e022d72-bcc6-4832-9fdb-c9773a541cdc",
   "metadata": {},
   "outputs": [
    {
     "data": {
      "text/markdown": [
       "```json\n",
       "{ 'created_at': '2023-01-31T20:52:10Z',\n",
       "  'creator': { 'avatar_url': 'https://avatars.githubusercontent.com/u/1483922?v=4',\n",
       "               'events_url': 'https://api.github.com/users/hamelsmu/events{/privacy}',\n",
       "               'followers_url': 'https://api.github.com/users/hamelsmu/followers',\n",
       "               'following_url': 'https://api.github.com/users/hamelsmu/following{/other_user}',\n",
       "               'gists_url': 'https://api.github.com/users/hamelsmu/gists{/gist_id}',\n",
       "               'gravatar_id': '',\n",
       "               'html_url': 'https://github.com/hamelsmu',\n",
       "               'id': 1483922,\n",
       "               'login': 'hamelsmu',\n",
       "               'node_id': 'MDQ6VXNlcjE0ODM5MjI=',\n",
       "               'organizations_url': 'https://api.github.com/users/hamelsmu/orgs',\n",
       "               'received_events_url': 'https://api.github.com/users/hamelsmu/received_events',\n",
       "               'repos_url': 'https://api.github.com/users/hamelsmu/repos',\n",
       "               'site_admin': False,\n",
       "               'starred_url': 'https://api.github.com/users/hamelsmu/starred{/owner}{/repo}',\n",
       "               'subscriptions_url': 'https://api.github.com/users/hamelsmu/subscriptions',\n",
       "               'type': 'User',\n",
       "               'url': 'https://api.github.com/users/hamelsmu'},\n",
       "  'deployment_url': 'https://api.github.com/repos/hamelsmu/wandb-cicd/deployments/784106961',\n",
       "  'description': 'Tagged model for run 2wpuuc70 as a `production candidate`',\n",
       "  'environment': 'staging',\n",
       "  'environment_url': '',\n",
       "  'id': 1628518990,\n",
       "  'log_url': 'https://wandb.ai/av-team/registry/model?selectionPath=av-team%2Fmodel-registry%2FBDD+Semantic+Segmentation&version=v3',\n",
       "  'node_id': 'DES_kwDOIxeptM5hETpO',\n",
       "  'performed_via_github_app': None,\n",
       "  'repository_url': 'https://api.github.com/repos/hamelsmu/wandb-cicd',\n",
       "  'state': 'success',\n",
       "  'target_url': 'https://wandb.ai/av-team/registry/model?selectionPath=av-team%2Fmodel-registry%2FBDD+Semantic+Segmentation&version=v3',\n",
       "  'updated_at': '2023-01-31T20:52:10Z',\n",
       "  'url': 'https://api.github.com/repos/hamelsmu/wandb-cicd/deployments/784106961/statuses/1628518990'}\n",
       "```"
      ],
      "text/plain": [
       "{'url': 'https://api.github.com/repos/hamelsmu/wandb-cicd/deployments/784106961/statuses/1628518990',\n",
       " 'id': 1628518990,\n",
       " 'node_id': 'DES_kwDOIxeptM5hETpO',\n",
       " 'state': 'success',\n",
       " 'creator': {'login': 'hamelsmu',\n",
       "  'id': 1483922,\n",
       "  'node_id': 'MDQ6VXNlcjE0ODM5MjI=',\n",
       "  'avatar_url': 'https://avatars.githubusercontent.com/u/1483922?v=4',\n",
       "  'gravatar_id': '',\n",
       "  'url': 'https://api.github.com/users/hamelsmu',\n",
       "  'html_url': 'https://github.com/hamelsmu',\n",
       "  'followers_url': 'https://api.github.com/users/hamelsmu/followers',\n",
       "  'following_url': 'https://api.github.com/users/hamelsmu/following{/other_user}',\n",
       "  'gists_url': 'https://api.github.com/users/hamelsmu/gists{/gist_id}',\n",
       "  'starred_url': 'https://api.github.com/users/hamelsmu/starred{/owner}{/repo}',\n",
       "  'subscriptions_url': 'https://api.github.com/users/hamelsmu/subscriptions',\n",
       "  'organizations_url': 'https://api.github.com/users/hamelsmu/orgs',\n",
       "  'repos_url': 'https://api.github.com/users/hamelsmu/repos',\n",
       "  'events_url': 'https://api.github.com/users/hamelsmu/events{/privacy}',\n",
       "  'received_events_url': 'https://api.github.com/users/hamelsmu/received_events',\n",
       "  'type': 'User',\n",
       "  'site_admin': False},\n",
       " 'description': 'Tagged model for run 2wpuuc70 as a `production candidate`',\n",
       " 'environment': 'staging',\n",
       " 'target_url': 'https://wandb.ai/av-team/registry/model?selectionPath=av-team%2Fmodel-registry%2FBDD+Semantic+Segmentation&version=v3',\n",
       " 'created_at': '2023-01-31T20:52:10Z',\n",
       " 'updated_at': '2023-01-31T20:52:10Z',\n",
       " 'deployment_url': 'https://api.github.com/repos/hamelsmu/wandb-cicd/deployments/784106961',\n",
       " 'repository_url': 'https://api.github.com/repos/hamelsmu/wandb-cicd',\n",
       " 'environment_url': '',\n",
       " 'log_url': 'https://wandb.ai/av-team/registry/model?selectionPath=av-team%2Fmodel-registry%2FBDD+Semantic+Segmentation&version=v3',\n",
       " 'performed_via_github_app': None}"
      ]
     },
     "execution_count": null,
     "metadata": {},
     "output_type": "execute_result"
    }
   ],
   "source": [
    "status"
   ]
  },
  {
   "cell_type": "code",
   "execution_count": null,
   "id": "74336111-c409-4398-93f4-5b4c73c11313",
   "metadata": {},
   "outputs": [],
   "source": []
  }
 ],
 "metadata": {
  "kernelspec": {
   "display_name": "Python 3 (ipykernel)",
   "language": "python",
   "name": "python3"
  }
 },
 "nbformat": 4,
 "nbformat_minor": 5
}
