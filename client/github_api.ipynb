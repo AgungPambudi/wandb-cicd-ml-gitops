{
 "cells": [
  {
   "cell_type": "markdown",
   "id": "00f13a95-dab1-44fe-af2d-dcc9281bba5e",
   "metadata": {},
   "source": [
    "# ghapi\n",
    "\n",
    "[ghapi](https://ghapi.fast.ai/) is a python client for the GitHub API\n",
    "\n",
    "## Authentication\n",
    "\n",
    "Set the `GITHUB_TOKEN` environment variable."
   ]
  },
  {
   "cell_type": "code",
   "execution_count": 1,
   "id": "1e044ddc-ffe2-4bcb-b5ff-d06ad79172f3",
   "metadata": {},
   "outputs": [],
   "source": [
    "import os\n",
    "from ghapi.core import GhApi"
   ]
  },
  {
   "cell_type": "code",
   "execution_count": 2,
   "id": "9ffaaf58-2e6b-4746-8db5-5a41cc4819b0",
   "metadata": {},
   "outputs": [],
   "source": [
    "api = GhApi(owner='hamelsmu', repo='wandb-cicd')"
   ]
  },
  {
   "cell_type": "markdown",
   "id": "786dc2f1-46a1-44fc-ac68-697375e2a482",
   "metadata": {},
   "source": [
    "## List Pull Requests\n",
    "\n",
    "I use tab completion:"
   ]
  },
  {
   "cell_type": "code",
   "execution_count": null,
   "id": "9861387a-3a2a-4d40-aaf7-94aaa870067c",
   "metadata": {},
   "outputs": [
    {
     "name": "stdout",
     "output_type": "stream",
     "text": [
      "Update README.md 7 https://github.com/hamelsmu/wandb-cicd/pull/7\n",
      "Update README.md 6 https://github.com/hamelsmu/wandb-cicd/pull/6\n",
      "Update README.md 5 https://github.com/hamelsmu/wandb-cicd/pull/5\n",
      "Update README.md 4 https://github.com/hamelsmu/wandb-cicd/pull/4\n"
     ]
    }
   ],
   "source": [
    "for pr in api.pulls.list():\n",
    "    print(pr.title, pr.number, pr.html_url)"
   ]
  },
  {
   "cell_type": "markdown",
   "id": "137bfd0e-949a-4319-a871-b1f48f2b3550",
   "metadata": {},
   "source": [
    "## Make a comment on a pull request\n",
    "\n",
    "Use tab completion again. Remember that PRs are equivalent to issues in the GitHub API."
   ]
  },
  {
   "cell_type": "code",
   "execution_count": null,
   "id": "dd87fa72-498e-49cc-b3ee-fb3aec8cb02d",
   "metadata": {},
   "outputs": [],
   "source": [
    "comment = api.issues.create_comment(5, \"Hi! I'm making a comment with `ghapi`!\")"
   ]
  },
  {
   "cell_type": "code",
   "execution_count": null,
   "id": "4280ae2c-0fdc-4d4d-a053-e24825039008",
   "metadata": {},
   "outputs": [
    {
     "data": {
      "text/plain": [
       "'https://github.com/hamelsmu/wandb-cicd/pull/5#issuecomment-1386009096'"
      ]
     },
     "execution_count": null,
     "metadata": {},
     "output_type": "execute_result"
    }
   ],
   "source": [
    "comment.html_url"
   ]
  },
  {
   "cell_type": "markdown",
   "id": "7cf4bb02-6deb-4921-9be5-cf17d7547c42",
   "metadata": {},
   "source": [
    "## Label a pull request"
   ]
  },
  {
   "cell_type": "code",
   "execution_count": null,
   "id": "3abaecd0-52d8-42d5-b1d6-2864364db96f",
   "metadata": {},
   "outputs": [
    {
     "data": {
      "text/plain": [
       "(#3) [{'id': 5017678189, 'node_id': 'LA_kwDOIxeptM8AAAABKxOxbQ', 'url': 'https://api.github.com/repos/hamelsmu/wandb-cicd/labels/wandb%20demo', 'name': 'wandb demo', 'color': 'ededed', 'default': False, 'description': None},{'id': 5017678191, 'node_id': 'LA_kwDOIxeptM8AAAABKxOxbw', 'url': 'https://api.github.com/repos/hamelsmu/wandb-cicd/labels/hiya', 'name': 'hiya', 'color': 'ededed', 'default': False, 'description': None},{'id': 5017689915, 'node_id': 'LA_kwDOIxeptM8AAAABKxPfOw', 'url': 'https://api.github.com/repos/hamelsmu/wandb-cicd/labels/my-custom-label', 'name': 'my-custom-label', 'color': 'f29513', 'default': False, 'description': None}]"
      ]
     },
     "execution_count": null,
     "metadata": {},
     "output_type": "execute_result"
    }
   ],
   "source": [
    "api.issues.add_labels(5, labels = ['wandb demo'])"
   ]
  },
  {
   "cell_type": "markdown",
   "id": "7148c546-14a0-4c93-9b07-83e51e94b1d4",
   "metadata": {},
   "source": [
    "## Look at Events\n",
    "\n",
    "This is an alternative to inspecting the payload in actions:"
   ]
  },
  {
   "cell_type": "code",
   "execution_count": 3,
   "id": "782a1203-be7d-42ea-97cc-49fca922aef7",
   "metadata": {},
   "outputs": [],
   "source": [
    "from ghapi.event import load_sample_events"
   ]
  },
  {
   "cell_type": "code",
   "execution_count": 4,
   "id": "bbb5de99-dc2d-4e0d-9024-af07750af57e",
   "metadata": {},
   "outputs": [],
   "source": [
    "evts = load_sample_events()"
   ]
  },
  {
   "cell_type": "code",
   "execution_count": 5,
   "id": "bec67e71-7a8a-4e5c-943a-451bb68723c4",
   "metadata": {},
   "outputs": [],
   "source": [
    "comments = [e for e in evts if e.full_type == 'IssueCommentEvent_created']"
   ]
  },
  {
   "cell_type": "code",
   "execution_count": 6,
   "id": "b76469b0-915b-4c1c-8d28-ce072ac72879",
   "metadata": {},
   "outputs": [
    {
     "data": {
      "text/markdown": [
       "```json\n",
       "{ 'actor': { 'avatar_url': 'https://avatars.githubusercontent.com/u/5951582?',\n",
       "             'display_login': 'jerhard',\n",
       "             'gravatar_id': '',\n",
       "             'id': 5951582,\n",
       "             'login': 'jerhard',\n",
       "             'url': 'https://api.github.com/users/jerhard'},\n",
       "  'created_at': '2020-12-18T15:41:51Z',\n",
       "  'id': 14584635269,\n",
       "  'org': { 'avatar_url': 'https://avatars.githubusercontent.com/u/11064260?',\n",
       "           'gravatar_id': '',\n",
       "           'id': 11064260,\n",
       "           'login': 'ls1intum',\n",
       "           'url': 'https://api.github.com/orgs/ls1intum'},\n",
       "  'payload': { 'action': 'created',\n",
       "               'comment': { 'author_association': 'NONE',\n",
       "                            'body': 'Do you think that spaces (or even white '\n",
       "                                    'space characters in general) at the start '\n",
       "                                    'and end of input string should be '\n",
       "                                    'trimmed?\\r\\n'\n",
       "                                    'A space at the end of an input should '\n",
       "                                    'maybe not be considered a mistake. What '\n",
       "                                    'do you think?',\n",
       "                            'created_at': '2020-12-18T15:41:51Z',\n",
       "                            'html_url': 'https://github.com/ls1intum/Artemis/issues/2570#issuecomment-748163891',\n",
       "                            'id': 748163891,\n",
       "                            'issue_url': 'https://api.github.com/repos/ls1intum/Artemis/issues/2570',\n",
       "                            'node_id': 'MDEyOklzc3VlQ29tbWVudDc0ODE2Mzg5MQ==',\n",
       "                            'performed_via_github_app': None,\n",
       "                            'updated_at': '2020-12-18T15:41:51Z',\n",
       "                            'url': 'https://api.github.com/repos/ls1intum/Artemis/issues/comments/748163891',\n",
       "                            'user': { 'avatar_url': 'https://avatars0.githubusercontent.com/u/5951582?v=4',\n",
       "                                      'events_url': 'https://api.github.com/users/jerhard/events{/privacy}',\n",
       "                                      'followers_url': 'https://api.github.com/users/jerhard/followers',\n",
       "                                      'following_url': 'https://api.github.com/users/jerhard/following{/other_user}',\n",
       "                                      'gists_url': 'https://api.github.com/users/jerhard/gists{/gist_id}',\n",
       "                                      'gravatar_id': '',\n",
       "                                      'html_url': 'https://github.com/jerhard',\n",
       "                                      'id': 5951582,\n",
       "                                      'login': 'jerhard',\n",
       "                                      'node_id': 'MDQ6VXNlcjU5NTE1ODI=',\n",
       "                                      'organizations_url': 'https://api.github.com/users/jerhard/orgs',\n",
       "                                      'received_events_url': 'https://api.github.com/users/jerhard/received_events',\n",
       "                                      'repos_url': 'https://api.github.com/users/jerhard/repos',\n",
       "                                      'site_admin': False,\n",
       "                                      'starred_url': 'https://api.github.com/users/jerhard/starred{/owner}{/repo}',\n",
       "                                      'subscriptions_url': 'https://api.github.com/users/jerhard/subscriptions',\n",
       "                                      'type': 'User',\n",
       "                                      'url': 'https://api.github.com/users/jerhard'}},\n",
       "               'issue': { 'active_lock_reason': None,\n",
       "                          'assignee': None,\n",
       "                          'assignees': [],\n",
       "                          'author_association': 'NONE',\n",
       "                          'body': '### Is your feature request related to a '\n",
       "                                  'problem?\\r\\n'\n",
       "                                  'The feature request is related to '\n",
       "                                  'fill-in-the-blank code exercises. See also '\n",
       "                                  '[the blank spaces '\n",
       "                                  'issue](https://github.com/ls1intum/Artemis/issues/2569).\\r\\n'\n",
       "                                  '\\r\\n'\n",
       "                                  'For code fill-in-the-blank exercises it is '\n",
       "                                  'at times crucial that all characters of a '\n",
       "                                  'proposed solution inside of a text box '\n",
       "                                  'match 100% the actual solution. Especially '\n",
       "                                  'for variable names it can cause damage to '\n",
       "                                  'the automatic corrections if you get points '\n",
       "                                  'for stating wrong variable names, as these '\n",
       "                                  'are sometimes very short and differ by only '\n",
       "                                  'one character.\\r\\n'\n",
       "                                  '\\r\\n'\n",
       "                                  \"### Describe the solution you'd like\\r\\n\"\n",
       "                                  'Above the markdown editor for the short '\n",
       "                                  'answer quiz exercise, you can define the '\n",
       "                                  'scoring type. Maybe here you can state '\n",
       "                                  'another option \"Exact Match\", which yields '\n",
       "                                  'the desired behaviour.',\n",
       "                          'closed_at': None,\n",
       "                          'comments': 0,\n",
       "                          'comments_url': 'https://api.github.com/repos/ls1intum/Artemis/issues/2570/comments',\n",
       "                          'created_at': '2020-12-18T15:26:16Z',\n",
       "                          'events_url': 'https://api.github.com/repos/ls1intum/Artemis/issues/2570/events',\n",
       "                          'html_url': 'https://github.com/ls1intum/Artemis/issues/2570',\n",
       "                          'id': 770972494,\n",
       "                          'labels': [{'id': 1084708801, 'node_id': 'MDU6TGFiZWwxMDg0NzA4ODAx', 'url': 'https://api.github.com/repos/ls1intum/Artemis/labels/feature', 'name': 'feature', 'color': '32e55c', 'default': False, 'description': ''}],\n",
       "                          'labels_url': 'https://api.github.com/repos/ls1intum/Artemis/issues/2570/labels{/name}',\n",
       "                          'locked': False,\n",
       "                          'milestone': None,\n",
       "                          'node_id': 'MDU6SXNzdWU3NzA5NzI0OTQ=',\n",
       "                          'number': 2570,\n",
       "                          'performed_via_github_app': None,\n",
       "                          'repository_url': 'https://api.github.com/repos/ls1intum/Artemis',\n",
       "                          'state': 'open',\n",
       "                          'title': 'Short Answer Quiz: Assign a point for a '\n",
       "                                   'text field *only* when all characters '\n",
       "                                   'match',\n",
       "                          'updated_at': '2020-12-18T15:41:51Z',\n",
       "                          'url': 'https://api.github.com/repos/ls1intum/Artemis/issues/2570',\n",
       "                          'user': { 'avatar_url': 'https://avatars1.githubusercontent.com/u/875050?v=4',\n",
       "                                    'events_url': 'https://api.github.com/users/ghagerer/events{/privacy}',\n",
       "                                    'followers_url': 'https://api.github.com/users/ghagerer/followers',\n",
       "                                    'following_url': 'https://api.github.com/users/ghagerer/following{/other_user}',\n",
       "                                    'gists_url': 'https://api.github.com/users/ghagerer/gists{/gist_id}',\n",
       "                                    'gravatar_id': '',\n",
       "                                    'html_url': 'https://github.com/ghagerer',\n",
       "                                    'id': 875050,\n",
       "                                    'login': 'ghagerer',\n",
       "                                    'node_id': 'MDQ6VXNlcjg3NTA1MA==',\n",
       "                                    'organizations_url': 'https://api.github.com/users/ghagerer/orgs',\n",
       "                                    'received_events_url': 'https://api.github.com/users/ghagerer/received_events',\n",
       "                                    'repos_url': 'https://api.github.com/users/ghagerer/repos',\n",
       "                                    'site_admin': False,\n",
       "                                    'starred_url': 'https://api.github.com/users/ghagerer/starred{/owner}{/repo}',\n",
       "                                    'subscriptions_url': 'https://api.github.com/users/ghagerer/subscriptions',\n",
       "                                    'type': 'User',\n",
       "                                    'url': 'https://api.github.com/users/ghagerer'}}},\n",
       "  'public': True,\n",
       "  'repo': { 'id': 69562331,\n",
       "            'name': 'ls1intum/Artemis',\n",
       "            'url': 'https://api.github.com/repos/ls1intum/Artemis'},\n",
       "  'type': 'IssueCommentEvent'}\n",
       "```"
      ],
      "text/plain": [
       "{'id': 14584635269,\n",
       " 'type': 'IssueCommentEvent',\n",
       " 'actor': {'id': 5951582,\n",
       "  'login': 'jerhard',\n",
       "  'display_login': 'jerhard',\n",
       "  'gravatar_id': '',\n",
       "  'url': 'https://api.github.com/users/jerhard',\n",
       "  'avatar_url': 'https://avatars.githubusercontent.com/u/5951582?'},\n",
       " 'repo': {'id': 69562331,\n",
       "  'name': 'ls1intum/Artemis',\n",
       "  'url': 'https://api.github.com/repos/ls1intum/Artemis'},\n",
       " 'payload': {'action': 'created',\n",
       "  'issue': {'url': 'https://api.github.com/repos/ls1intum/Artemis/issues/2570',\n",
       "   'repository_url': 'https://api.github.com/repos/ls1intum/Artemis',\n",
       "   'labels_url': 'https://api.github.com/repos/ls1intum/Artemis/issues/2570/labels{/name}',\n",
       "   'comments_url': 'https://api.github.com/repos/ls1intum/Artemis/issues/2570/comments',\n",
       "   'events_url': 'https://api.github.com/repos/ls1intum/Artemis/issues/2570/events',\n",
       "   'html_url': 'https://github.com/ls1intum/Artemis/issues/2570',\n",
       "   'id': 770972494,\n",
       "   'node_id': 'MDU6SXNzdWU3NzA5NzI0OTQ=',\n",
       "   'number': 2570,\n",
       "   'title': 'Short Answer Quiz: Assign a point for a text field *only* when all characters match',\n",
       "   'user': {'login': 'ghagerer',\n",
       "    'id': 875050,\n",
       "    'node_id': 'MDQ6VXNlcjg3NTA1MA==',\n",
       "    'avatar_url': 'https://avatars1.githubusercontent.com/u/875050?v=4',\n",
       "    'gravatar_id': '',\n",
       "    'url': 'https://api.github.com/users/ghagerer',\n",
       "    'html_url': 'https://github.com/ghagerer',\n",
       "    'followers_url': 'https://api.github.com/users/ghagerer/followers',\n",
       "    'following_url': 'https://api.github.com/users/ghagerer/following{/other_user}',\n",
       "    'gists_url': 'https://api.github.com/users/ghagerer/gists{/gist_id}',\n",
       "    'starred_url': 'https://api.github.com/users/ghagerer/starred{/owner}{/repo}',\n",
       "    'subscriptions_url': 'https://api.github.com/users/ghagerer/subscriptions',\n",
       "    'organizations_url': 'https://api.github.com/users/ghagerer/orgs',\n",
       "    'repos_url': 'https://api.github.com/users/ghagerer/repos',\n",
       "    'events_url': 'https://api.github.com/users/ghagerer/events{/privacy}',\n",
       "    'received_events_url': 'https://api.github.com/users/ghagerer/received_events',\n",
       "    'type': 'User',\n",
       "    'site_admin': False},\n",
       "   'labels': (#1) [{'id': 1084708801, 'node_id': 'MDU6TGFiZWwxMDg0NzA4ODAx', 'url': 'https://api.github.com/repos/ls1intum/Artemis/labels/feature', 'name': 'feature', 'color': '32e55c', 'default': False, 'description': ''}],\n",
       "   'state': 'open',\n",
       "   'locked': False,\n",
       "   'assignee': None,\n",
       "   'assignees': (#0) [],\n",
       "   'milestone': None,\n",
       "   'comments': 0,\n",
       "   'created_at': '2020-12-18T15:26:16Z',\n",
       "   'updated_at': '2020-12-18T15:41:51Z',\n",
       "   'closed_at': None,\n",
       "   'author_association': 'NONE',\n",
       "   'active_lock_reason': None,\n",
       "   'body': '### Is your feature request related to a problem?\\r\\nThe feature request is related to fill-in-the-blank code exercises. See also [the blank spaces issue](https://github.com/ls1intum/Artemis/issues/2569).\\r\\n\\r\\nFor code fill-in-the-blank exercises it is at times crucial that all characters of a proposed solution inside of a text box match 100% the actual solution. Especially for variable names it can cause damage to the automatic corrections if you get points for stating wrong variable names, as these are sometimes very short and differ by only one character.\\r\\n\\r\\n### Describe the solution you\\'d like\\r\\nAbove the markdown editor for the short answer quiz exercise, you can define the scoring type. Maybe here you can state another option \"Exact Match\", which yields the desired behaviour.',\n",
       "   'performed_via_github_app': None},\n",
       "  'comment': {'url': 'https://api.github.com/repos/ls1intum/Artemis/issues/comments/748163891',\n",
       "   'html_url': 'https://github.com/ls1intum/Artemis/issues/2570#issuecomment-748163891',\n",
       "   'issue_url': 'https://api.github.com/repos/ls1intum/Artemis/issues/2570',\n",
       "   'id': 748163891,\n",
       "   'node_id': 'MDEyOklzc3VlQ29tbWVudDc0ODE2Mzg5MQ==',\n",
       "   'user': {'login': 'jerhard',\n",
       "    'id': 5951582,\n",
       "    'node_id': 'MDQ6VXNlcjU5NTE1ODI=',\n",
       "    'avatar_url': 'https://avatars0.githubusercontent.com/u/5951582?v=4',\n",
       "    'gravatar_id': '',\n",
       "    'url': 'https://api.github.com/users/jerhard',\n",
       "    'html_url': 'https://github.com/jerhard',\n",
       "    'followers_url': 'https://api.github.com/users/jerhard/followers',\n",
       "    'following_url': 'https://api.github.com/users/jerhard/following{/other_user}',\n",
       "    'gists_url': 'https://api.github.com/users/jerhard/gists{/gist_id}',\n",
       "    'starred_url': 'https://api.github.com/users/jerhard/starred{/owner}{/repo}',\n",
       "    'subscriptions_url': 'https://api.github.com/users/jerhard/subscriptions',\n",
       "    'organizations_url': 'https://api.github.com/users/jerhard/orgs',\n",
       "    'repos_url': 'https://api.github.com/users/jerhard/repos',\n",
       "    'events_url': 'https://api.github.com/users/jerhard/events{/privacy}',\n",
       "    'received_events_url': 'https://api.github.com/users/jerhard/received_events',\n",
       "    'type': 'User',\n",
       "    'site_admin': False},\n",
       "   'created_at': '2020-12-18T15:41:51Z',\n",
       "   'updated_at': '2020-12-18T15:41:51Z',\n",
       "   'author_association': 'NONE',\n",
       "   'body': 'Do you think that spaces (or even white space characters in general) at the start and end of input string should be trimmed?\\r\\nA space at the end of an input should maybe not be considered a mistake. What do you think?',\n",
       "   'performed_via_github_app': None}},\n",
       " 'public': True,\n",
       " 'created_at': '2020-12-18T15:41:51Z',\n",
       " 'org': {'id': 11064260,\n",
       "  'login': 'ls1intum',\n",
       "  'gravatar_id': '',\n",
       "  'url': 'https://api.github.com/orgs/ls1intum',\n",
       "  'avatar_url': 'https://avatars.githubusercontent.com/u/11064260?'}}"
      ]
     },
     "execution_count": 6,
     "metadata": {},
     "output_type": "execute_result"
    }
   ],
   "source": [
    "comments[0]"
   ]
  },
  {
   "cell_type": "code",
   "execution_count": null,
   "id": "57ae6661-f8ef-4890-8cb8-71f2d63ac5d3",
   "metadata": {},
   "outputs": [],
   "source": []
  }
 ],
 "metadata": {
  "kernelspec": {
   "display_name": "Python 3 (ipykernel)",
   "language": "python",
   "name": "python3"
  },
  "language_info": {
   "codemirror_mode": {
    "name": "ipython",
    "version": 3
   },
   "file_extension": ".py",
   "mimetype": "text/x-python",
   "name": "python",
   "nbconvert_exporter": "python",
   "pygments_lexer": "ipython3",
   "version": "3.9.12"
  }
 },
 "nbformat": 4,
 "nbformat_minor": 5
}
