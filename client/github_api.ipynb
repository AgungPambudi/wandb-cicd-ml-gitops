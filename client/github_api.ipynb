{
 "cells": [
  {
   "cell_type": "markdown",
   "id": "00f13a95-dab1-44fe-af2d-dcc9281bba5e",
   "metadata": {},
   "source": [
    "# ghapi\n",
    "\n",
    "[ghapi](https://ghapi.fast.ai/) is a python client for the GitHub API\n",
    "\n",
    "## Authentication\n",
    "\n",
    "Set the `GITHUB_TOKEN` environment variable."
   ]
  },
  {
   "cell_type": "code",
   "execution_count": null,
   "id": "1e044ddc-ffe2-4bcb-b5ff-d06ad79172f3",
   "metadata": {},
   "outputs": [],
   "source": [
    "import os\n",
    "from ghapi.core import GhApi"
   ]
  },
  {
   "cell_type": "code",
   "execution_count": null,
   "id": "9ffaaf58-2e6b-4746-8db5-5a41cc4819b0",
   "metadata": {},
   "outputs": [],
   "source": [
    "api = GhApi(owner='hamelsmu', repo='wandb-cicd')"
   ]
  },
  {
   "cell_type": "markdown",
   "id": "786dc2f1-46a1-44fc-ac68-697375e2a482",
   "metadata": {},
   "source": [
    "## List Pull Requests\n",
    "\n",
    "I use tab completion:"
   ]
  },
  {
   "cell_type": "code",
   "execution_count": null,
   "id": "9861387a-3a2a-4d40-aaf7-94aaa870067c",
   "metadata": {},
   "outputs": [
    {
     "name": "stdout",
     "output_type": "stream",
     "text": [
      "Update README.md 7 https://github.com/hamelsmu/wandb-cicd/pull/7\n",
      "Update README.md 6 https://github.com/hamelsmu/wandb-cicd/pull/6\n",
      "Update README.md 5 https://github.com/hamelsmu/wandb-cicd/pull/5\n",
      "Update README.md 4 https://github.com/hamelsmu/wandb-cicd/pull/4\n"
     ]
    }
   ],
   "source": [
    "for pr in api.pulls.list():\n",
    "    print(pr.title, pr.number, pr.html_url)"
   ]
  },
  {
   "cell_type": "markdown",
   "id": "137bfd0e-949a-4319-a871-b1f48f2b3550",
   "metadata": {},
   "source": [
    "## Make a comment on a pull request\n",
    "\n",
    "Use tab completion again. Remember that PRs are equivalent to issues in the GitHub API."
   ]
  },
  {
   "cell_type": "code",
   "execution_count": null,
   "id": "dd87fa72-498e-49cc-b3ee-fb3aec8cb02d",
   "metadata": {},
   "outputs": [],
   "source": [
    "comment = api.issues.create_comment(5, \"Hi! I'm making a comment with `ghapi`!\")"
   ]
  },
  {
   "cell_type": "code",
   "execution_count": null,
   "id": "4280ae2c-0fdc-4d4d-a053-e24825039008",
   "metadata": {},
   "outputs": [
    {
     "data": {
      "text/plain": [
       "'https://github.com/hamelsmu/wandb-cicd/pull/5#issuecomment-1386009096'"
      ]
     },
     "execution_count": null,
     "metadata": {},
     "output_type": "execute_result"
    }
   ],
   "source": [
    "comment.html_url"
   ]
  },
  {
   "cell_type": "markdown",
   "id": "7cf4bb02-6deb-4921-9be5-cf17d7547c42",
   "metadata": {},
   "source": [
    "## Label a pull request"
   ]
  },
  {
   "cell_type": "code",
   "execution_count": null,
   "id": "3abaecd0-52d8-42d5-b1d6-2864364db96f",
   "metadata": {},
   "outputs": [
    {
     "data": {
      "text/plain": [
       "(#3) [{'id': 5017678189, 'node_id': 'LA_kwDOIxeptM8AAAABKxOxbQ', 'url': 'https://api.github.com/repos/hamelsmu/wandb-cicd/labels/wandb%20demo', 'name': 'wandb demo', 'color': 'ededed', 'default': False, 'description': None},{'id': 5017678191, 'node_id': 'LA_kwDOIxeptM8AAAABKxOxbw', 'url': 'https://api.github.com/repos/hamelsmu/wandb-cicd/labels/hiya', 'name': 'hiya', 'color': 'ededed', 'default': False, 'description': None},{'id': 5017689915, 'node_id': 'LA_kwDOIxeptM8AAAABKxPfOw', 'url': 'https://api.github.com/repos/hamelsmu/wandb-cicd/labels/my-custom-label', 'name': 'my-custom-label', 'color': 'f29513', 'default': False, 'description': None}]"
      ]
     },
     "execution_count": null,
     "metadata": {},
     "output_type": "execute_result"
    }
   ],
   "source": [
    "api.issues.add_labels(5, labels = ['wandb demo'])"
   ]
  },
  {
   "cell_type": "code",
   "execution_count": null,
   "id": "6c48d0c9-2486-41af-b157-92b2ea9a88c8",
   "metadata": {},
   "outputs": [],
   "source": [
    "import os"
   ]
  },
  {
   "cell_type": "code",
   "execution_count": null,
   "id": "782a1203-be7d-42ea-97cc-49fca922aef7",
   "metadata": {},
   "outputs": [],
   "source": []
  }
 ],
 "metadata": {
  "kernelspec": {
   "display_name": "Python 3 (ipykernel)",
   "language": "python",
   "name": "python3"
  }
 },
 "nbformat": 4,
 "nbformat_minor": 5
}
