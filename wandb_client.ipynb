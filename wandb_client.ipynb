{
 "cells": [
  {
   "cell_type": "code",
   "execution_count": null,
   "id": "22050b0f-6e16-4a0c-80cc-263da4876292",
   "metadata": {},
   "outputs": [],
   "source": [
    "import wandb"
   ]
  },
  {
   "cell_type": "markdown",
   "id": "e55e3435-a284-4411-a52e-b4f251c03c50",
   "metadata": {},
   "source": [
    "# Getting Metrics Tied To the Current Production Model\n",
    "\n",
    "We can get the production model from the registry, then get the metrics via lineage from the associated run."
   ]
  },
  {
   "cell_type": "code",
   "execution_count": null,
   "id": "7fdf6a37-dee3-4f0e-924a-cf05c7979c56",
   "metadata": {},
   "outputs": [
    {
     "name": "stderr",
     "output_type": "stream",
     "text": [
      "\u001b[34m\u001b[1mwandb\u001b[0m: Currently logged in as: \u001b[33mhamelsmu\u001b[0m (\u001b[33mav-team\u001b[0m). Use \u001b[1m`wandb login --relogin`\u001b[0m to force relogin\n"
     ]
    },
    {
     "data": {
      "text/html": [
       "wandb version 0.13.9 is available!  To upgrade, please run:\n",
       " $ pip install wandb --upgrade"
      ],
      "text/plain": [
       "<IPython.core.display.HTML object>"
      ]
     },
     "metadata": {},
     "output_type": "display_data"
    },
    {
     "data": {
      "text/html": [
       "Tracking run with wandb version 0.13.3"
      ],
      "text/plain": [
       "<IPython.core.display.HTML object>"
      ]
     },
     "metadata": {},
     "output_type": "display_data"
    },
    {
     "data": {
      "text/html": [
       "Run data is saved locally in <code>/Users/hamel/github/wandb-cicd/wandb/run-20230113_212005-1db0bz7j</code>"
      ],
      "text/plain": [
       "<IPython.core.display.HTML object>"
      ]
     },
     "metadata": {},
     "output_type": "display_data"
    },
    {
     "data": {
      "text/html": [
       "Syncing run <strong><a href=\"https://wandb.ai/av-team/wandb-cicd/runs/1db0bz7j\" target=\"_blank\">breezy-elevator-5</a></strong> to <a href=\"https://wandb.ai/av-team/wandb-cicd\" target=\"_blank\">Weights & Biases</a> (<a href=\"https://wandb.me/run\" target=\"_blank\">docs</a>)<br/>"
      ],
      "text/plain": [
       "<IPython.core.display.HTML object>"
      ]
     },
     "metadata": {},
     "output_type": "display_data"
    }
   ],
   "source": [
    "run = wandb.init(job_type=\"CI/CD\")\n",
    "path = 'av-team/model-registry/'\n",
    "model_name = 'BDD Semantic Segmentation'\n",
    "version = 'production'\n",
    "\n",
    "artifact = run.use_artifact(f'{path}{model_name}:{version}', \n",
    "                            type='model')"
   ]
  },
  {
   "cell_type": "markdown",
   "id": "e86885dd-c112-4930-9dcd-abec5d8bdc5c",
   "metadata": {},
   "source": [
    "Get the run that created the model:"
   ]
  },
  {
   "cell_type": "code",
   "execution_count": null,
   "id": "b40c2645-b132-4089-893d-ac8274382d23",
   "metadata": {},
   "outputs": [],
   "source": [
    "run = artifact.logged_by()"
   ]
  },
  {
   "cell_type": "code",
   "execution_count": null,
   "id": "9845cf39-8617-42a9-b547-81961ebd73f8",
   "metadata": {},
   "outputs": [
    {
     "data": {
      "text/plain": [
       "{'bicycle_iou': 0,\n",
       " 'vehicle_iou': 0.7598675070628712,\n",
       " 'person_iou': 0.13954558401437303,\n",
       " 'traffic_sign_iou': 0.04609753307660045,\n",
       " 'final_traffic_sign_iou': 0.05314886217585242,\n",
       " 'background_iou': 0.921853196957014,\n",
       " 'final_road_iou': 0.8347413133027304,\n",
       " 'final_person_iou': 0.20271520471610835,\n",
       " 'final_background_iou': 0.920883500388814,\n",
       " 'final_vehicle_iou': 0.7561426671932289,\n",
       " 'traffic_light_iou': 0.1546196566812521,\n",
       " 'road_iou': 0.8379052798838932,\n",
       " 'final_traffic_light_iou': 0.11524698900331648,\n",
       " 'final_bicycle_iou': 0}"
      ]
     },
     "execution_count": null,
     "metadata": {},
     "output_type": "execute_result"
    }
   ],
   "source": [
    "def get_iou_metrics(run):\n",
    "    return {k:v for k,v in run.summary.items() if '_iou' in k}\n",
    "\n",
    "get_iou_metrics(run)"
   ]
  },
  {
   "cell_type": "markdown",
   "id": "d84628de-23ea-4642-8ac9-b193c86768fd",
   "metadata": {},
   "source": [
    "## Getting Metrics For An Experiment ID\n",
    "\n",
    "This is useful if you want to get metrics for a particular experiment ID."
   ]
  },
  {
   "cell_type": "code",
   "execution_count": null,
   "id": "05f28ab9-2b2f-40aa-92ed-2c7d96e2639b",
   "metadata": {},
   "outputs": [],
   "source": [
    "run_path = 'av-team/mlops-course-001/wlt1r8k7'\n",
    "api = wandb.Api()\n",
    "run = api.run(run_path)"
   ]
  },
  {
   "cell_type": "code",
   "execution_count": null,
   "id": "860201db-b17a-45f8-9fa9-88ba385efec2",
   "metadata": {},
   "outputs": [
    {
     "data": {
      "text/plain": [
       "{'final_person_iou': 0,\n",
       " 'final_bicycle_iou': 0,\n",
       " 'final_traffic_light_iou': 0.09025893958076447,\n",
       " 'person_iou': 0,\n",
       " 'final_background_iou': 0.9194038173285132,\n",
       " 'bicycle_iou': 0,\n",
       " 'final_vehicle_iou': 0.7519664371203332,\n",
       " 'vehicle_iou': 0.7519784886198334,\n",
       " 'final_road_iou': 0.8422501240160545,\n",
       " 'road_iou': 0.8467596086120717,\n",
       " 'background_iou': 0.9209043224804184,\n",
       " 'final_traffic_sign_iou': 0.00013421917992081068,\n",
       " 'traffic_sign_iou': 0.0001342732460557234,\n",
       " 'traffic_light_iou': 0.07797093928386092}"
      ]
     },
     "execution_count": null,
     "metadata": {},
     "output_type": "execute_result"
    }
   ],
   "source": [
    "get_iou_metrics(run)"
   ]
  },
  {
   "cell_type": "markdown",
   "id": "db442804-ce15-4cad-9e76-51cdefc37d85",
   "metadata": {},
   "source": [
    "## Getting Metrics For A Run With A Tag\n",
    "\n",
    "It's better to use the [Mongo API](https://docs.wandb.ai/guides/track/public-api-guide#querying-multiple-runs) instead of downloading and iterating through each run if possible.\n",
    "\n",
    "The use case for this is if you wanted to compare a particular run with another run that you have tagged, such as \"baseline\"."
   ]
  },
  {
   "cell_type": "code",
   "execution_count": null,
   "id": "23a04044-940f-49b9-a95c-2c29a7ad02f6",
   "metadata": {},
   "outputs": [],
   "source": [
    "api = wandb.Api()\n",
    "tags= ['candidate']\n",
    "\n",
    "baseline_runs=api.runs('av-team/mlops-course-001', \n",
    "                       {\"tags\": {\"$in\": tags}}) # this is the Mongo Client"
   ]
  },
  {
   "cell_type": "code",
   "execution_count": null,
   "id": "b588a18a-6cfd-4d3f-ae85-5fa1ac6f6153",
   "metadata": {},
   "outputs": [
    {
     "name": "stdout",
     "output_type": "stream",
     "text": [
      "scarlet-armadillo-502\n",
      "fine-sweep-63\n"
     ]
    }
   ],
   "source": [
    "for run in baseline_runs:\n",
    "    print(run.name)"
   ]
  },
  {
   "cell_type": "code",
   "execution_count": null,
   "id": "321a2d50-8e65-4241-9f9c-d75b70b7fea8",
   "metadata": {},
   "outputs": [],
   "source": []
  }
 ],
 "metadata": {
  "kernelspec": {
   "display_name": "Python 3 (ipykernel)",
   "language": "python",
   "name": "python3"
  }
 },
 "nbformat": 4,
 "nbformat_minor": 5
}
